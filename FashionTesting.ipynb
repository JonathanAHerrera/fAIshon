{
  "nbformat": 4,
  "nbformat_minor": 0,
  "metadata": {
    "colab": {
      "provenance": []
    },
    "kernelspec": {
      "name": "python3",
      "display_name": "Python 3"
    },
    "language_info": {
      "name": "python"
    }
  },
  "cells": [
    {
      "cell_type": "code",
      "execution_count": 1,
      "metadata": {
        "colab": {
          "base_uri": "https://localhost:8080/"
        },
        "id": "WnYy796UCkZG",
        "outputId": "8e3c4667-51d6-419f-bc6a-ef091f287557"
      },
      "outputs": [
        {
          "output_type": "stream",
          "name": "stdout",
          "text": [
            "Mounted at /content/drive\n"
          ]
        }
      ],
      "source": [
        "#Mount Drive\n",
        "from google.colab import drive\n",
        "drive.mount('/content/drive')"
      ]
    },
    {
      "cell_type": "code",
      "source": [
        "# Replace 'path_to_your_zipped_file.zip' with the path to your zip file\n",
        "# Replace 'path_to_destination_directory' with the path where you want to extract the files\n",
        "!unzip /content/drive/MyDrive/DeepFashionDataset/segm.zip -d /content/drive/MyDrive/DeepFashionDataset/UnzippedFiles\n"
      ],
      "metadata": {
        "id": "Kc7Q-f-EHQdw"
      },
      "execution_count": null,
      "outputs": []
    },
    {
      "cell_type": "code",
      "source": [
        "import pandas as pd\n",
        "import numpy as np"
      ],
      "metadata": {
        "id": "T-uIDclKIRtb"
      },
      "execution_count": 3,
      "outputs": []
    },
    {
      "cell_type": "code",
      "source": [
        "#Load datasets and rename columns\n",
        "shapeDf = pd.read_csv('/content/drive/MyDrive/DeepFashionDataset/UnzippedFiles/labels/shape/shape_anno_all.txt', sep=\" \", header=None)\n",
        "shapeDf.columns = ['fileName', 'sleeveLength', 'lowerClothingLength', 'socks', 'hat', 'glasses', 'neckwear', 'wristWearing', 'ring', 'waistAccessories', 'neckline', 'isOuterClothingCardigan', 'isUpperClothingCoveringNaval']\n",
        "\n",
        "FabricDf = pd.read_csv('/content/drive/MyDrive/DeepFashionDataset/UnzippedFiles/labels/texture/fabric_ann.txt', sep=\" \", header=None)\n",
        "FabricDf.columns = ['fileName', 'upperFabric', 'lowerFabric', 'outerFabric']\n",
        "\n",
        "patternDf = pd.read_csv('/content/drive/MyDrive/DeepFashionDataset/UnzippedFiles/labels/texture/pattern_ann.txt', sep=\" \", header=None)\n",
        "patternDf.columns = ['fileName', 'upperPattern', 'lowerPattern', 'outerPattern']"
      ],
      "metadata": {
        "id": "r83KknrVwS-v"
      },
      "execution_count": 13,
      "outputs": []
    },
    {
      "cell_type": "code",
      "source": [],
      "metadata": {
        "colab": {
          "base_uri": "https://localhost:8080/"
        },
        "id": "38suYZ8Vwwtv",
        "outputId": "663605dd-78df-474b-c5bd-aeaa0c704a70"
      },
      "execution_count": 15,
      "outputs": [
        {
          "output_type": "stream",
          "name": "stdout",
          "text": [
            "                                    fileName  upperPattern  lowerPattern  \\\n",
            "0  MEN-Denim-id_00000080-01_7_additional.jpg             3             4   \n",
            "1  MEN-Denim-id_00000089-01_7_additional.jpg             3             3   \n",
            "2  MEN-Denim-id_00000089-02_7_additional.jpg             2             3   \n",
            "3  MEN-Denim-id_00000089-03_7_additional.jpg             3             3   \n",
            "4  MEN-Denim-id_00000089-04_7_additional.jpg             3             3   \n",
            "\n",
            "   outerPattern  \n",
            "0             7  \n",
            "1             7  \n",
            "2             7  \n",
            "3             7  \n",
            "4             7  \n"
          ]
        }
      ]
    },
    {
      "cell_type": "code",
      "source": [],
      "metadata": {
        "id": "D5MQOyTLwy7m"
      },
      "execution_count": null,
      "outputs": []
    }
  ]
}